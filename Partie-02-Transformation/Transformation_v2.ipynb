{
 "cells": [
  {
   "cell_type": "markdown",
   "metadata": {},
   "source": [
    "# Partie 2 : Transformation des Données (Version 2)\n",
    "\n",
    "Ce notebook présente le processus de transformation des données brutes pour notre projet ETL sur les pandémies. Nous allons nettoyer, agréger, normaliser et supprimer les doublons des données extraites dans la phase précédente.\n",
    "\n",
    "Cette version corrige les erreurs potentielles et prépare les données selon le schéma de la base de données défini dans `epiviz.sql`."
   ]
  },
  {
   "cell_type": "markdown",
   "metadata": {},
   "source": [
    "## Importation des bibliothèques nécessaires"
   ]
  },
  {
   "cell_type": "code",
   "execution_count": null,
   "metadata": {},
   "outputs": [],
   "source": [
    "import pandas as pd\n",
    "import numpy as np\n",
    "import os\n",
    "import re\n",
    "from datetime import datetime, timedelta\n",
    "import matplotlib.pyplot as plt\n",
    "import seaborn as sns\n",
    "import warnings\n",
    "\n",
    "# Ignorer les avertissements\n",
    "warnings.filterwarnings('ignore')\n",
    "\n",
    "# Configuration pour afficher plus de colonnes\n",
    "pd.set_option('display.max_columns', None)\n",
    "pd.set_option('display.max_rows', 100)"
   ]
  },
  {
   "cell_type": "markdown",
   "metadata": {},
   "source": [
    "## Chargement des données brutes"
   ]
  },
  {
   "cell_type": "code",
   "execution_count": null,
   "metadata": {},
   "outputs": [],
   "source": [
    "# Répertoire des données brutes\n",
    "raw_data_dir = './Donnees Brutes/'\n",
    "\n",
    "# Répertoire de sortie pour les données transformées\n",
    "output_dir = '../Partie-03-Chargement/donnees_nettoyees/'\n",
    "os.makedirs(output_dir, exist_ok=True)\n",
    "\n",
    "# Chemins des fichiers de données\n",
    "covid_data_path = os.path.join(raw_data_dir, 'covid_19_clean_complete.csv')\n",
    "monkeypox_data_path = os.path.join(raw_data_dir, 'owid-monkeypox-data.csv')\n",
    "worldometer_data_path = os.path.join(raw_data_dir, 'worldometer_coronavirus_daily_data.csv')\n",
    "\n",
    "# Chargement des données avec gestion d'erreurs\n",
    "def load_data(file_path, description):\n",
    "    try:\n",
    "        df = pd.read_csv(file_path, low_memory=False)\n",
    "        print(f\"Données {description} chargées avec succès. Forme: {df.shape}\")\n",
    "        return df\n",
    "    except Exception as e:\n",
    "        print(f\"Erreur lors du chargement des données {description}: {e}\")\n",
    "        return None\n",
    "\n",
    "# Chargement des données\n",
    "covid_df = load_data(covid_data_path, \"COVID-19\")\n",
    "monkeypox_df = load_data(monkeypox_data_path, \"Monkeypox\")\n",
    "worldometer_df = load_data(worldometer_data_path, \"Worldometer\")"
   ]
  },
  {
   "cell_type": "markdown",
   "metadata": {},
   "source": [
    "## Examen des données chargées"
   ]
  },
  {
   "cell_type": "code",
   "execution_count": null,
   "metadata": {},
   "outputs": [],
   "source": [
    "# Fonction pour examiner un DataFrame\n",
    "def examine_dataframe(df, name):\n",
    "    if df is None:\n",
    "        print(f\"Le DataFrame {name} n'a pas pu être chargé.\")\n",
    "        return\n",
    "    \n",
    "    print(f\"\\n=== Examen du DataFrame {name} ===\")\n",
    "    print(f\"Dimensions: {df.shape}\")\n",
    "    print(\"\\nPremières lignes:\")\n",
    "    display(df.head())\n",
    "    print(\"\\nInformations sur les colonnes:\")\n",
    "    display(df.info())\n",
    "    print(\"\\nStatistiques descriptives:\")\n",
    "    display(df.describe())\n",
    "    print(\"\\nValeurs manquantes par colonne:\")\n",
    "    display(df.isna().sum())\n",
    "\n",
    "# Examen des DataFrames\n",
    "examine_dataframe(covid_df, \"COVID-19\")\n",
    "examine_dataframe(monkeypox_df, \"Monkeypox\")\n",
    "examine_dataframe(worldometer_df, \"Worldometer\")"
   ]
  }
 ],
 "metadata": {
  "kernelspec": {
   "display_name": "Python 3",
   "language": "python",
   "name": "python3"
  },
  "language_info": {
   "codemirror_mode": {
    "name": "ipython",
    "version": 3
   },
   "file_extension": ".py",
   "mimetype": "text/x-python",
   "name": "python",
   "nbconvert_exporter": "python",
   "pygments_lexer": "ipython3",
   "version": "3.8.5"
  }
 },
 "nbformat": 4,
 "nbformat_minor": 4
}
