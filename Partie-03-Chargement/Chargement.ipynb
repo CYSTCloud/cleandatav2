{
 "cells": [
  {
   "cell_type": "markdown",
   "metadata": {},
   "source": [
    "# Partie 3 : Chargement des Données\n",
    "\n",
    "Ce notebook présente le processus de chargement des données transformées dans notre base de données MySQL pour notre projet ETL sur les pandémies."
   ]
  },
  {
   "cell_type": "markdown",
   "metadata": {},
   "source": [
    "## Importation des bibliothèques nécessaires"
   ]
  },
  {
   "cell_type": "code",
   "execution_count": null,
   "metadata": {},
   "outputs": [],
   "source": [
    "import pandas as pd\n",
    "import numpy as np\n",
    "import os\n",
    "import sqlalchemy\n",
    "from sqlalchemy import create_engine, text\n",
    "import pymysql\n",
    "import warnings\n",
    "\n",
    "# Ignorer les avertissements\n",
    "warnings.filterwarnings('ignore')\n",
    "\n",
    "# Configuration pour afficher plus de colonnes\n",
    "pd.set_option('display.max_columns', None)"
   ]
  },
  {
   "cell_type": "markdown",
   "metadata": {},
   "source": [
    "## Chargement des données nettoyées"
   ]
  },
  {
   "cell_type": "code",
   "execution_count": null,
   "metadata": {},
   "outputs": [],
   "source": [
    "# Répertoire des données nettoyées\n",
    "clean_data_dir = './donnees_nettoyees/'\n",
    "\n",
    "# Chemins des fichiers de données\n",
    "confirmed_data_path = os.path.join(clean_data_dir, 'cas_confirmes_clean.csv')\n",
    "deaths_data_path = os.path.join(clean_data_dir, 'deces_clean.csv')\n",
    "recovered_data_path = os.path.join(clean_data_dir, 'guerisons_clean.csv')\n",
    "locations_data_path = os.path.join(clean_data_dir, 'localisations_clean.csv')\n",
    "pandemics_data_path = os.path.join(clean_data_dir, 'pandemies_clean.csv')\n",
    "\n",
    "# Chargement des données\n",
    "try:\n",
    "    confirmed_df = pd.read_csv(confirmed_data_path)\n",
    "    print(f\"Données de cas confirmés chargées avec succès. Forme: {confirmed_df.shape}\")\n",
    "except Exception as e:\n",
    "    print(f\"Erreur lors du chargement des données de cas confirmés: {e}\")\n",
    "    confirmed_df = None\n",
    "\n",
    "try:\n",
    "    deaths_df = pd.read_csv(deaths_data_path)\n",
    "    print(f\"Données de décès chargées avec succès. Forme: {deaths_df.shape}\")\n",
    "except Exception as e:\n",
    "    print(f\"Erreur lors du chargement des données de décès: {e}\")\n",
    "    deaths_df = None\n",
    "    \n",
    "try:\n",
    "    recovered_df = pd.read_csv(recovered_data_path)\n",
    "    print(f\"Données de guérisons chargées avec succès. Forme: {recovered_df.shape}\")\n",
    "except Exception as e:\n",
    "    print(f\"Erreur lors du chargement des données de guérisons: {e}\")\n",
    "    recovered_df = None\n",
    "    \n",
    "try:\n",
    "    locations_df = pd.read_csv(locations_data_path)\n",
    "    print(f\"Données de localisations chargées avec succès. Forme: {locations_df.shape}\")\n",
    "except Exception as e:\n",
    "    print(f\"Erreur lors du chargement des données de localisations: {e}\")\n",
    "    locations_df = None\n",
    "    \n",
    "try:\n",
    "    pandemics_df = pd.read_csv(pandemics_data_path)\n",
    "    print(f\"Données de pandémies chargées avec succès. Forme: {pandemics_df.shape}\")\n",
    "except Exception as e:\n",
    "    print(f\"Erreur lors du chargement des données de pandémies: {e}\")\n",
    "    pandemics_df = None"
   ]
  },
  {
   "cell_type": "markdown",
   "metadata": {},
   "source": [
    "## Configuration de la connexion à la base de données"
   ]
  },
  {
   "cell_type": "code",
   "execution_count": null,
   "metadata": {},
   "outputs": [],
   "source": [
    "# Paramètres de connexion à la base de données\n",
    "db_user = 'root'\n",
    "db_password = 'votre_mot_de_passe'\n",
    "db_host = 'localhost'\n",
    "db_port = '3306'\n",
    "db_name = 'pandemies_db'\n",
    "\n",
    "# Chaîne de connexion\n",
    "connection_string = f\"mysql+pymysql://{db_user}:{db_password}@{db_host}:{db_port}/{db_name}\"\n",
    "\n",
    "# Création du moteur SQLAlchemy\n",
    "try:\n",
    "    engine = create_engine(connection_string)\n",
    "    print(\"Connexion à la base de données établie avec succès.\")\n",
    "except Exception as e:\n",
    "    print(f\"Erreur lors de la connexion à la base de données: {e}\")\n",
    "    engine = None"
   ]
  },
  {
   "cell_type": "markdown",
   "metadata": {},
   "source": [
    "## Vérification de la connexion à la base de données"
   ]
  },
  {
   "cell_type": "code",
   "execution_count": null,
   "metadata": {},
   "outputs": [],
   "source": [
    "# Vérification de la connexion\n",
    "if engine is not None:\n",
    "    try:\n",
    "        with engine.connect() as conn:\n",
    "            result = conn.execute(text(\"SELECT 1\"))\n",
    "            print(\"Test de connexion réussi.\")\n",
    "            \n",
    "            # Affichage des tables existantes\n",
    "            tables = engine.table_names()\n",
    "            print(f\"Tables existantes dans la base de données: {tables}\")\n",
    "    except Exception as e:\n",
    "        print(f\"Erreur lors du test de connexion: {e}\")"
   ]
  },
  {
   "cell_type": "markdown",
   "metadata": {},
   "source": [
    "## Fonctions de chargement des données"
   ]
  },
  {
   "cell_type": "code",
   "execution_count": null,
   "metadata": {},
   "outputs": [],
   "source": [
    "def load_table(df, table_name, engine, if_exists='replace'):\n",
    "    \"\"\"\n",
    "    Fonction pour charger un DataFrame dans une table de la base de données\n",
    "    \"\"\"\n",
    "    if df is None or engine is None:\n",
    "        print(f\"Impossible de charger les données dans la table {table_name}.\")\n",
    "        return False\n",
    "    \n",
    "    try:\n",
    "        # Chargement des données dans la base de données\n",
    "        df.to_sql(table_name, engine, if_exists=if_exists, index=False)\n",
    "        print(f\"Données chargées avec succès dans la table {table_name}.\")\n",
    "        \n",
    "        # Vérification du nombre de lignes chargées\n",
    "        with engine.connect() as conn:\n",
    "            result = conn.execute(text(f\"SELECT COUNT(*) FROM {table_name}\"))\n",
    "            count = result.fetchone()[0]\n",
    "            print(f\"Nombre de lignes dans la table {table_name}: {count}\")\n",
    "        \n",
    "        return True\n",
    "    except Exception as e:\n",
    "        print(f\"Erreur lors du chargement des données dans la table {table_name}: {e}\")\n",
    "        return False"
   ]
  },
  {
   "cell_type": "markdown",
   "metadata": {},
   "source": [
    "## Chargement des données dans la base de données"
   ]
  },
  {
   "cell_type": "code",
   "execution_count": null,
   "metadata": {},
   "outputs": [],
   "source": [
    "# Chargement des données de pandémies\n",
    "if pandemics_df is not None and engine is not None:\n",
    "    load_table(pandemics_df, 'pandemie', engine)"
   ]
  },
  {
   "cell_type": "code",
   "execution_count": null,
   "metadata": {},
   "outputs": [],
   "source": [
    "# Chargement des données de localisations\n",
    "if locations_df is not None and engine is not None:\n",
    "    load_table(locations_df, 'localisation', engine)"
   ]
  },
  {
   "cell_type": "code",
   "execution_count": null,
   "metadata": {},
   "outputs": [],
   "source": [
    "# Chargement des données de cas confirmés\n",
    "if confirmed_df is not None and engine is not None:\n",
    "    load_table(confirmed_df, 'cas_confirmes', engine)"
   ]
  },
  {
   "cell_type": "code",
   "execution_count": null,
   "metadata": {},
   "outputs": [],
   "source": [
    "# Chargement des données de décès\n",
    "if deaths_df is not None and engine is not None:\n",
    "    load_table(deaths_df, 'deces', engine)"
   ]
  },
  {
   "cell_type": "code",
   "execution_count": null,
   "metadata": {},
   "outputs": [],
   "source": [
    "# Chargement des données de guérisons\n",
    "if recovered_df is not None and engine is not None:\n",
    "    load_table(recovered_df, 'guerisons', engine)"
   ]
  },
  {
   "cell_type": "markdown",
   "metadata": {},
   "source": [
    "## Vérification des données chargées"
   ]
  },
  {
   "cell_type": "code",
   "execution_count": null,
   "metadata": {},
   "outputs": [],
   "source": [
    "def query_table(query, engine):\n",
    "    \"\"\"\n",
    "    Fonction pour exécuter une requête SQL et afficher les résultats\n",
    "    \"\"\"\n",
    "    if engine is None:\n",
    "        print(\"Impossible d'exécuter la requête: pas de connexion à la base de données.\")\n",
    "        return None\n",
    "    \n",
    "    try:\n",
    "        # Exécution de la requête\n",
    "        result = pd.read_sql(query, engine)\n",
    "        return result\n",
    "    except Exception as e:\n",
    "        print(f\"Erreur lors de l'exécution de la requête: {e}\")\n",
    "        return None"
   ]
  },
  {
   "cell_type": "code",
   "execution_count": null,
   "metadata": {},
   "outputs": [],
   "source": [
    "# Vérification des données de pandémies\n",
    "if engine is not None:\n",
    "    result = query_table(\"SELECT * FROM pandemie LIMIT 5\", engine)\n",
    "    if result is not None:\n",
    "        print(\"Aperçu des données de pandémies:\")\n",
    "        display(result)"
   ]
  },
  {
   "cell_type": "code",
   "execution_count": null,
   "metadata": {},
   "outputs": [],
   "source": [
    "# Vérification des données de localisations\n",
    "if engine is not None:\n",
    "    result = query_table(\"SELECT * FROM localisation LIMIT 5\", engine)\n",
    "    if result is not None:\n",
    "        print(\"Aperçu des données de localisations:\")\n",
    "        display(result)"
   ]
  },
  {
   "cell_type": "code",
   "execution_count": null,
   "metadata": {},
   "outputs": [],
   "source": [
    "# Vérification des données de cas confirmés\n",
    "if engine is not None:\n",
    "    result = query_table(\"SELECT * FROM cas_confirmes LIMIT 5\", engine)\n",
    "    if result is not None:\n",
    "        print(\"Aperçu des données de cas confirmés:\")\n",
    "        display(result)"
   ]
  },
  {
   "cell_type": "markdown",
   "metadata": {},
   "source": [
    "## Exemples de requêtes d'analyse"
   ]
  },
  {
   "cell_type": "code",
   "execution_count": null,
   "metadata": {},
   "outputs": [],
   "source": [
    "# Top 5 des pays avec le plus de cas confirmés\n",
    "if engine is not None:\n",
    "    query = \"\"\"\n",
    "    SELECT l.pays, MAX(c.cas_cumules) as total_cas\n",
    "    FROM cas_confirmes c\n",
    "    JOIN localisation l ON c.id_localisation = l.id_localisation\n",
    "    GROUP BY l.pays\n",
    "    ORDER BY total_cas DESC\n",
    "    LIMIT 5\n",
    "    \"\"\"\n",
    "    result = query_table(query, engine)\n",
    "    if result is not None:\n",
    "        print(\"Top 5 des pays avec le plus de cas confirmés:\")\n",
    "        display(result)"
   ]
  },
  {
   "cell_type": "code",
   "execution_count": null,
   "metadata": {},
   "outputs": [],
   "source": [
    "# Top 5 des pays avec le plus de décès\n",
    "if engine is not None:\n",
    "    query = \"\"\"\n",
    "    SELECT l.pays, MAX(d.deces_cumules) as total_deces\n",
    "    FROM deces d\n",
    "    JOIN localisation l ON d.id_localisation = l.id_localisation\n",
    "    GROUP BY l.pays\n",
    "    ORDER BY total_deces DESC\n",
    "    LIMIT 5\n",
    "    \"\"\"\n",
    "    result = query_table(query, engine)\n",
    "    if result is not None:\n",
    "        print(\"Top 5 des pays avec le plus de décès:\")\n",
    "        display(result)"
   ]
  },
  {
   "cell_type": "code",
   "execution_count": null,
   "metadata": {},
   "outputs": [],
   "source": [
    "# Évolution des cas par mois\n",
    "if engine is not None:\n",
    "    query = \"\"\"\n",
    "    SELECT \n",
    "        DATE_FORMAT(date, '%Y-%m') as mois,\n",
    "        SUM(nouveaux_cas) as total_nouveaux_cas\n",
    "    FROM cas_confirmes\n",
    "    GROUP BY DATE_FORMAT(date, '%Y-%m')\n",
    "    ORDER BY mois\n",
    "    \"\"\"\n",
    "    result = query_table(query, engine)\n",
    "    if result is not None:\n",
    "        print(\"Évolution des cas par mois:\")\n",
    "        display(result)\n",
    "        \n",
    "        # Visualisation\n",
    "        plt.figure(figsize=(12, 6))\n",
    "        plt.bar(result['mois'], result['total_nouveaux_cas'])\n",
    "        plt.title('Évolution des nouveaux cas par mois')\n",
    "        plt.xlabel('Mois')\n",
    "        plt.ylabel('Nouveaux cas')\n",
    "        plt.xticks(rotation=45)\n",
    "        plt.tight_layout()\n",
    "        plt.show()"
   ]
  },
  {
   "cell_type": "markdown",
   "metadata": {},
   "source": [
    "## Résumé du chargement\n",
    "\n",
    "Dans ce notebook, nous avons :\n",
    "1. Chargé les données nettoyées et transformées\n",
    "2. Configuré la connexion à la base de données MySQL\n",
    "3. Chargé les données dans les tables correspondantes\n",
    "4. Vérifié les données chargées\n",
    "5. Exécuté quelques requêtes d'analyse pour démontrer l'utilisation des données\n",
    "\n",
    "Le processus ETL est maintenant complet : nous avons extrait les données brutes, les avons transformées et nettoyées, puis les avons chargées dans une base de données relationnelle pour analyse."
   ]
  }
 ],
 "metadata": {
  "kernelspec": {
   "display_name": "Python 3",
   "language": "python",
   "name": "python3"
  },
  "language_info": {
   "codemirror_mode": {
    "name": "ipython",
    "version": 3
   },
   "file_extension": ".py",
   "mimetype": "text/x-python",
   "name": "python",
   "nbconvert_exporter": "python",
   "pygments_lexer": "ipython3",
   "version": "3.8.5"
  }
 },
 "nbformat": 4,
 "nbformat_minor": 4
}
