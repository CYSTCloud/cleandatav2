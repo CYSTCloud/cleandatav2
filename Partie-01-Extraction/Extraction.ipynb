{
 "cells": [
  {
   "cell_type": "markdown",
   "metadata": {},
   "source": [
    "# Partie 1 : Extraction des Données\n",
    "\n",
    "Ce notebook présente le processus d'extraction des données brutes pour notre projet ETL sur les pandémies. Nous allons extraire les données de différentes sources CSV et JSON pour les préparer à la phase de transformation."
   ]
  },
  {
   "cell_type": "markdown",
   "metadata": {},
   "source": [
    "## Importation des bibliothèques nécessaires"
   ]
  },
  {
   "cell_type": "code",
   "execution_count": null,
   "metadata": {},
   "outputs": [],
   "source": [
    "import pandas as pd\n",
    "import numpy as np\n",
    "import os\n",
    "import json\n",
    "import glob\n",
    "from datetime import datetime\n",
    "import matplotlib.pyplot as plt\n",
    "import seaborn as sns\n",
    "\n",
    "# Configuration pour afficher plus de colonnes\n",
    "pd.set_option('display.max_columns', None)"
   ]
  },
  {
   "cell_type": "markdown",
   "metadata": {},
   "source": [
    "## Définition des chemins de fichiers"
   ]
  },
  {
   "cell_type": "code",
   "execution_count": null,
   "metadata": {},
   "outputs": [],
   "source": [
    "# Répertoire des données brutes\n",
    "raw_data_dir = './Donnees Brutes/'\n",
    "\n",
    "# Chemins des fichiers de données\n",
    "covid_data_path = os.path.join(raw_data_dir, 'covid_19_clean_complete.csv')\n",
    "monkeypox_data_path = os.path.join(raw_data_dir, 'owid-monkeypox-data.csv')\n",
    "worldometer_data_path = os.path.join(raw_data_dir, 'worldometer_coronavirus_daily_data.csv')"
   ]
  },
  {
   "cell_type": "markdown",
   "metadata": {},
   "source": [
    "## Extraction des données COVID-19"
   ]
  },
  {
   "cell_type": "code",
   "execution_count": null,
   "metadata": {},
   "outputs": [],
   "source": [
    "def extract_covid_data():\n",
    "    \"\"\"\n",
    "    Fonction pour extraire les données COVID-19 du fichier CSV\n",
    "    \"\"\"\n",
    "    try:\n",
    "        # Chargement des données\n",
    "        df = pd.read_csv(covid_data_path)\n",
    "        \n",
    "        # Affichage des premières lignes pour vérification\n",
    "        print(f\"Données COVID-19 chargées avec succès. Forme: {df.shape}\")\n",
    "        \n",
    "        return df\n",
    "    except Exception as e:\n",
    "        print(f\"Erreur lors de l'extraction des données COVID-19: {e}\")\n",
    "        return None"
   ]
  },
  {
   "cell_type": "markdown",
   "metadata": {},
   "source": [
    "## Extraction des données Monkeypox"
   ]
  },
  {
   "cell_type": "code",
   "execution_count": null,
   "metadata": {},
   "outputs": [],
   "source": [
    "def extract_monkeypox_data():\n",
    "    \"\"\"\n",
    "    Fonction pour extraire les données Monkeypox du fichier CSV\n",
    "    \"\"\"\n",
    "    try:\n",
    "        # Chargement des données\n",
    "        df = pd.read_csv(monkeypox_data_path)\n",
    "        \n",
    "        # Affichage des premières lignes pour vérification\n",
    "        print(f\"Données Monkeypox chargées avec succès. Forme: {df.shape}\")\n",
    "        \n",
    "        return df\n",
    "    except Exception as e:\n",
    "        print(f\"Erreur lors de l'extraction des données Monkeypox: {e}\")\n",
    "        return None"
   ]
  },
  {
   "cell_type": "markdown",
   "metadata": {},
   "source": [
    "## Extraction des données Worldometer"
   ]
  },
  {
   "cell_type": "code",
   "execution_count": null,
   "metadata": {},
   "outputs": [],
   "source": [
    "def extract_worldometer_data():\n",
    "    \"\"\"\n",
    "    Fonction pour extraire les données Worldometer du fichier CSV\n",
    "    \"\"\"\n",
    "    try:\n",
    "        # Chargement des données\n",
    "        df = pd.read_csv(worldometer_data_path)\n",
    "        \n",
    "        # Affichage des premières lignes pour vérification\n",
    "        print(f\"Données Worldometer chargées avec succès. Forme: {df.shape}\")\n",
    "        \n",
    "        return df\n",
    "    except Exception as e:\n",
    "        print(f\"Erreur lors de l'extraction des données Worldometer: {e}\")\n",
    "        return None"
   ]
  },
  {
   "cell_type": "markdown",
   "metadata": {},
   "source": [
    "## Extraction des données JSON (si disponibles)"
   ]
  },
  {
   "cell_type": "code",
   "execution_count": null,
   "metadata": {},
   "outputs": [],
   "source": [
    "def extract_json_data(file_path):\n",
    "    \"\"\"\n",
    "    Fonction pour extraire les données d'un fichier JSON\n",
    "    \"\"\"\n",
    "    try:\n",
    "        with open(file_path, 'r', encoding='utf-8') as f:\n",
    "            data = json.load(f)\n",
    "        \n",
    "        # Conversion en DataFrame\n",
    "        df = pd.json_normalize(data)\n",
    "        \n",
    "        print(f\"Données JSON chargées avec succès depuis {file_path}. Forme: {df.shape}\")\n",
    "        \n",
    "        return df\n",
    "    except Exception as e:\n",
    "        print(f\"Erreur lors de l'extraction des données JSON: {e}\")\n",
    "        return None"
   ]
  },
  {
   "cell_type": "markdown",
   "metadata": {},
   "source": [
    "## Exécution des fonctions d'extraction"
   ]
  },
  {
   "cell_type": "code",
   "execution_count": null,
   "metadata": {},
   "outputs": [],
   "source": [
    "# Extraction des données COVID-19\n",
    "covid_df = extract_covid_data()\n",
    "\n",
    "# Affichage des premières lignes\n",
    "if covid_df is not None:\n",
    "    display(covid_df.head())\n",
    "    print(\"\\nInformations sur les colonnes:\")\n",
    "    display(covid_df.info())\n",
    "    print(\"\\nStatistiques descriptives:\")\n",
    "    display(covid_df.describe())"
   ]
  },
  {
   "cell_type": "code",
   "execution_count": null,
   "metadata": {},
   "outputs": [],
   "source": [
    "# Extraction des données Monkeypox\n",
    "monkeypox_df = extract_monkeypox_data()\n",
    "\n",
    "# Affichage des premières lignes\n",
    "if monkeypox_df is not None:\n",
    "    display(monkeypox_df.head())\n",
    "    print(\"\\nInformations sur les colonnes:\")\n",
    "    display(monkeypox_df.info())\n",
    "    print(\"\\nStatistiques descriptives:\")\n",
    "    display(monkeypox_df.describe())"
   ]
  },
  {
   "cell_type": "code",
   "execution_count": null,
   "metadata": {},
   "outputs": [],
   "source": [
    "# Extraction des données Worldometer\n",
    "worldometer_df = extract_worldometer_data()\n",
    "\n",
    "# Affichage des premières lignes\n",
    "if worldometer_df is not None:\n",
    "    display(worldometer_df.head())\n",
    "    print(\"\\nInformations sur les colonnes:\")\n",
    "    display(worldometer_df.info())\n",
    "    print(\"\\nStatistiques descriptives:\")\n",
    "    display(worldometer_df.describe())"
   ]
  },
  {
   "cell_type": "markdown",
   "metadata": {},
   "source": [
    "## Sauvegarde des données extraites"
   ]
  },
  {
   "cell_type": "code",
   "execution_count": null,
   "metadata": {},
   "outputs": [],
   "source": [
    "# Création du répertoire de sortie dans la partie Transformation\n",
    "output_dir = '../Partie-02-Transformation/Donnees Brutes/'\n",
    "os.makedirs(output_dir, exist_ok=True)\n",
    "\n",
    "# Sauvegarde des données extraites\n",
    "if covid_df is not None:\n",
    "    covid_df.to_csv(os.path.join(output_dir, 'covid_19_clean_complete.csv'), index=False)\n",
    "    print(\"Données COVID-19 sauvegardées avec succès.\")\n",
    "    \n",
    "if monkeypox_df is not None:\n",
    "    monkeypox_df.to_csv(os.path.join(output_dir, 'owid-monkeypox-data.csv'), index=False)\n",
    "    print(\"Données Monkeypox sauvegardées avec succès.\")\n",
    "    \n",
    "if worldometer_df is not None:\n",
    "    worldometer_df.to_csv(os.path.join(output_dir, 'worldometer_coronavirus_daily_data.csv'), index=False)\n",
    "    print(\"Données Worldometer sauvegardées avec succès.\")"
   ]
  },
  {
   "cell_type": "markdown",
   "metadata": {},
   "source": [
    "## Résumé de l'extraction\n",
    "\n",
    "Dans ce notebook, nous avons :\n",
    "1. Extrait les données COVID-19 du fichier CSV\n",
    "2. Extrait les données Monkeypox du fichier CSV\n",
    "3. Extrait les données Worldometer du fichier CSV\n",
    "4. Créé une fonction pour extraire des données JSON (si nécessaire)\n",
    "5. Sauvegardé les données extraites pour la phase de transformation\n",
    "\n",
    "La prochaine étape consistera à transformer ces données brutes pour les rendre exploitables dans notre base de données."
   ]
  }
 ],
 "metadata": {
  "kernelspec": {
   "display_name": "Python 3",
   "language": "python",
   "name": "python3"
  },
  "language_info": {
   "codemirror_mode": {
    "name": "ipython",
    "version": 3
   },
   "file_extension": ".py",
   "mimetype": "text/x-python",
   "name": "python",
   "nbconvert_exporter": "python",
   "pygments_lexer": "ipython3",
   "version": "3.8.5"
  }
 },
 "nbformat": 4,
 "nbformat_minor": 4
}
